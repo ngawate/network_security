{
 "cells": [
  {
   "cell_type": "code",
   "execution_count": 2,
   "id": "121bb71e",
   "metadata": {},
   "outputs": [],
   "source": [
    "from sklearn.linear_model import LogisticRegression\n",
    "from sklearn.neighbors import KNeighborsClassifier\n",
    "from sklearn.tree import DecisionTreeClassifier\n",
    "from sklearn.ensemble import AdaBoostClassifier, GradientBoostingClassifier, RandomForestClassifier"
   ]
  },
  {
   "cell_type": "code",
   "execution_count": 3,
   "id": "f4e81c8e",
   "metadata": {},
   "outputs": [],
   "source": [
    "models = {\n",
    "    \"Random Forest\": RandomForestClassifier(verbose=1),\n",
    "    \"Decision Tree\": DecisionTreeClassifier(),\n",
    "    \"Gradient Boosting\": GradientBoostingClassifier(verbose=1),\n",
    "    \"Logistic Regression\": LogisticRegression(verbose=1),\n",
    "    \"AdaBoost\": AdaBoostClassifier()\n",
    "}"
   ]
  },
  {
   "cell_type": "code",
   "execution_count": null,
   "id": "8933c3f7",
   "metadata": {},
   "outputs": [
    {
     "name": "stdout",
     "output_type": "stream",
     "text": [
      "RandomForestClassifier(verbose=1)\n",
      "DecisionTreeClassifier()\n",
      "GradientBoostingClassifier(verbose=1)\n",
      "LogisticRegression(verbose=1)\n",
      "AdaBoostClassifier()\n"
     ]
    }
   ],
   "source": [
    "for name, model in models.items():\n",
    "    print(model.fit())"
   ]
  },
  {
   "cell_type": "code",
   "execution_count": 9,
   "id": "170ad452",
   "metadata": {},
   "outputs": [],
   "source": [
    "params = {\n",
    "\"Decision Tree\": {\n",
    "    'criterion': ['gini', 'entropy', 'log_loss']\n",
    "},\n",
    "\"Random Forest\": {\n",
    "    'n_estimators': [8, 16, 32, 64, 128]\n",
    "},\n",
    "\"Gradient Boosting\": {\n",
    "    'learning_rate': [0.1, 0.01, 0.05, 0.001],\n",
    "    'subsample': [0.6, 0.7, 0.75, 0.8, 0.85],\n",
    "    'n_estimators': [8, 16, 32, 64]\n",
    "},\n",
    "\"Logistic Regression\": {},\n",
    "\"AdaBoost\" : {\n",
    "    'learning_rate': [0.1, 0.01, 0.05, 0.001],\n",
    "    'n_estimators': [8, 16, 32, 64]\n",
    "}\n",
    "}"
   ]
  },
  {
   "cell_type": "code",
   "execution_count": 11,
   "id": "c60cea61",
   "metadata": {},
   "outputs": [
    {
     "name": "stdout",
     "output_type": "stream",
     "text": [
      "{'criterion': ['gini', 'entropy', 'log_loss']}\n",
      "{'n_estimators': [8, 16, 32, 64, 128]}\n",
      "{'learning_rate': [0.1, 0.01, 0.05, 0.001], 'subsample': [0.6, 0.7, 0.75, 0.8, 0.85], 'n_estimators': [8, 16, 32, 64]}\n",
      "{}\n",
      "{'learning_rate': [0.1, 0.01, 0.05, 0.001], 'n_estimators': [8, 16, 32, 64]}\n"
     ]
    }
   ],
   "source": [
    "for name, param in params.items():\n",
    "    print(param)"
   ]
  },
  {
   "cell_type": "code",
   "execution_count": 13,
   "id": "24c0cfca",
   "metadata": {},
   "outputs": [
    {
     "name": "stdout",
     "output_type": "stream",
     "text": [
      "RandomForestClassifier(verbose=1) {'criterion': ['gini', 'entropy', 'log_loss']}\n",
      "DecisionTreeClassifier() {'n_estimators': [8, 16, 32, 64, 128]}\n",
      "GradientBoostingClassifier(verbose=1) {'learning_rate': [0.1, 0.01, 0.05, 0.001], 'subsample': [0.6, 0.7, 0.75, 0.8, 0.85], 'n_estimators': [8, 16, 32, 64]}\n",
      "LogisticRegression(verbose=1) {}\n",
      "AdaBoostClassifier() {'learning_rate': [0.1, 0.01, 0.05, 0.001], 'n_estimators': [8, 16, 32, 64]}\n"
     ]
    }
   ],
   "source": [
    "for (name, model), (para_name, param) in zip(models.items(), params.items()):\n",
    "\n",
    "    print(model, param)"
   ]
  },
  {
   "cell_type": "code",
   "execution_count": 15,
   "id": "9efcc864",
   "metadata": {},
   "outputs": [],
   "source": [
    "report = {\n",
    "    'learning_rate': 33,\n",
    "    'n_estimators': 90\n",
    "}"
   ]
  },
  {
   "cell_type": "code",
   "execution_count": 20,
   "id": "5919808a",
   "metadata": {},
   "outputs": [
    {
     "data": {
      "text/plain": [
       "90"
      ]
     },
     "execution_count": 20,
     "metadata": {},
     "output_type": "execute_result"
    }
   ],
   "source": [
    "best_model_score = max(sorted(report.values()))\n",
    "\n",
    "best_model_score"
   ]
  },
  {
   "cell_type": "code",
   "execution_count": 33,
   "id": "66e7f0b8",
   "metadata": {},
   "outputs": [
    {
     "data": {
      "text/plain": [
       "'n_estimators'"
      ]
     },
     "execution_count": 33,
     "metadata": {},
     "output_type": "execute_result"
    }
   ],
   "source": [
    "list(report.keys())[list(report.values()).index(best_model_score)]"
   ]
  },
  {
   "cell_type": "code",
   "execution_count": 28,
   "id": "a79de073",
   "metadata": {},
   "outputs": [
    {
     "data": {
      "text/plain": [
       "[1]"
      ]
     },
     "execution_count": 28,
     "metadata": {},
     "output_type": "execute_result"
    }
   ],
   "source": [
    "[list(report.values()).index(best_model_score)]"
   ]
  },
  {
   "cell_type": "code",
   "execution_count": null,
   "id": "6cf2bdd2",
   "metadata": {},
   "outputs": [],
   "source": []
  }
 ],
 "metadata": {
  "kernelspec": {
   "display_name": "env",
   "language": "python",
   "name": "python3"
  },
  "language_info": {
   "codemirror_mode": {
    "name": "ipython",
    "version": 3
   },
   "file_extension": ".py",
   "mimetype": "text/x-python",
   "name": "python",
   "nbconvert_exporter": "python",
   "pygments_lexer": "ipython3",
   "version": "3.11.7"
  }
 },
 "nbformat": 4,
 "nbformat_minor": 5
}
